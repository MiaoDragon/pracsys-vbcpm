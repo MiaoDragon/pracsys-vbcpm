{
 "cells": [
  {
   "cell_type": "code",
   "execution_count": 3,
   "id": "071095c9",
   "metadata": {},
   "outputs": [
    {
     "name": "stdout",
     "output_type": "stream",
     "text": [
      "final_occluded_volume not in data\n",
      "num_obj = 11, difficulty = 3, prob = 1, trial = 1\n",
      "{'num_reconstructed_objs': 11, 'num_collision': 0, 'running_time': 1489.9169340133667, 'num_executed_actions': 22, 'perception_time': 169.40257024765015, 'motion_planning_time': 131.28762340545654, 'pose_generation_time': 115.11118578910828, 'rearrange_time': 1042.770200252533, 'ros_time': 94.75422406196594, 'perception_calls': 317, 'motion_planning_calls': 103, 'pose_generation_calls': 98, 'rearrange_calls': 8, 'execution_calls': 743, 'rearrange_motion_planning_time': 510.22119212150574, 'rearrange_pose_generation_time': 444.5714967250824, 'rearrange_motion_planning_calls': 163, 'rearrange_pose_generation_calls': 339}\n",
      "final_occluded_volume not in data\n",
      "num_obj = 11, difficulty = 3, prob = 1, trial = 2\n",
      "final_occluded_volume not in data\n",
      "num_obj = 11, difficulty = 3, prob = 1, trial = 3\n",
      "final_occluded_volume not in data\n",
      "num_obj = 11, difficulty = 3, prob = 1, trial = 4\n",
      "final_occluded_volume not in data\n",
      "num_obj = 11, difficulty = 3, prob = 1, trial = 5\n",
      "final_occluded_volume not in data\n",
      "num_obj = 11, difficulty = 3, prob = 2, trial = 1\n",
      "final_occluded_volume not in data\n",
      "num_obj = 11, difficulty = 3, prob = 2, trial = 2\n",
      "final_occluded_volume not in data\n",
      "num_obj = 11, difficulty = 3, prob = 2, trial = 3\n",
      "final_occluded_volume not in data\n",
      "num_obj = 11, difficulty = 3, prob = 2, trial = 4\n",
      "final_occluded_volume not in data\n",
      "num_obj = 11, difficulty = 3, prob = 2, trial = 5\n",
      "final_occluded_volume not in data\n",
      "num_obj = 11, difficulty = 3, prob = 3, trial = 1\n",
      "final_occluded_volume not in data\n",
      "num_obj = 11, difficulty = 3, prob = 3, trial = 2\n",
      "final_occluded_volume not in data\n",
      "num_obj = 11, difficulty = 3, prob = 3, trial = 3\n",
      "final_occluded_volume not in data\n",
      "num_obj = 11, difficulty = 3, prob = 3, trial = 4\n",
      "final_occluded_volume not in data\n",
      "num_obj = 11, difficulty = 3, prob = 3, trial = 5\n",
      "final_occluded_volume not in data\n",
      "num_obj = 11, difficulty = 3, prob = 4, trial = 1\n",
      "{'num_reconstructed_objs': 10, 'num_collision': 0, 'running_time': 4641.882266044617, 'num_executed_actions': 15, 'perception_time': 2461.8436381816864, 'motion_planning_time': 526.1738967895508, 'pose_generation_time': 1131.5392689704895, 'rearrange_time': 72.38094735145569, 'ros_time': 342.36985087394714, 'perception_calls': 1745, 'motion_planning_calls': 91, 'pose_generation_calls': 818, 'rearrange_calls': 5, 'execution_calls': 1383, 'rearrange_motion_planning_time': 46.5582230091095, 'rearrange_pose_generation_time': 19.76319456100464, 'rearrange_motion_planning_calls': 15, 'rearrange_pose_generation_calls': 22}\n",
      "final_occluded_volume not in data\n",
      "num_obj = 11, difficulty = 3, prob = 4, trial = 2\n",
      "num_reconstructed_objs does not match\n",
      "num_obj = 11, difficulty = 3, prob = 4, trial = 2\n",
      "{'num_reconstructed_objs': 10, 'num_collision': 0, 'running_time': 4641.882266044617, 'num_executed_actions': 15, 'perception_time': 2461.8436381816864, 'motion_planning_time': 526.1738967895508, 'pose_generation_time': 1131.5392689704895, 'rearrange_time': 72.38094735145569, 'ros_time': 342.36985087394714, 'perception_calls': 1745, 'motion_planning_calls': 91, 'pose_generation_calls': 818, 'rearrange_calls': 5, 'execution_calls': 1383, 'rearrange_motion_planning_time': 46.5582230091095, 'rearrange_pose_generation_time': 19.76319456100464, 'rearrange_motion_planning_calls': 15, 'rearrange_pose_generation_calls': 22}\n",
      "final_occluded_volume not in data\n",
      "num_obj = 11, difficulty = 3, prob = 4, trial = 3\n",
      "final_occluded_volume not in data\n",
      "num_obj = 11, difficulty = 3, prob = 4, trial = 4\n",
      "final_occluded_volume not in data\n",
      "num_obj = 11, difficulty = 3, prob = 4, trial = 5\n",
      "final_occluded_volume not in data\n",
      "num_obj = 11, difficulty = 3, prob = 5, trial = 1\n",
      "final_occluded_volume not in data\n",
      "num_obj = 11, difficulty = 3, prob = 5, trial = 2\n",
      "final_occluded_volume not in data\n",
      "num_obj = 11, difficulty = 3, prob = 5, trial = 3\n",
      "final_occluded_volume not in data\n",
      "num_obj = 11, difficulty = 3, prob = 5, trial = 4\n",
      "final_occluded_volume not in data\n",
      "num_obj = 11, difficulty = 3, prob = 5, trial = 5\n",
      "final_occluded_volume not in data\n",
      "num_obj = 11, difficulty = 2, prob = 1, trial = 1\n",
      "final_occluded_volume not in data\n",
      "num_obj = 11, difficulty = 2, prob = 1, trial = 2\n",
      "final_occluded_volume not in data\n",
      "num_obj = 11, difficulty = 2, prob = 1, trial = 3\n",
      "final_occluded_volume not in data\n",
      "num_obj = 11, difficulty = 2, prob = 1, trial = 4\n",
      "final_occluded_volume not in data\n",
      "num_obj = 11, difficulty = 2, prob = 1, trial = 5\n",
      "final_occluded_volume not in data\n",
      "num_obj = 11, difficulty = 2, prob = 2, trial = 1\n",
      "final_occluded_volume not in data\n",
      "num_obj = 11, difficulty = 2, prob = 2, trial = 2\n",
      "final_occluded_volume not in data\n",
      "num_obj = 11, difficulty = 2, prob = 2, trial = 3\n",
      "final_occluded_volume not in data\n",
      "num_obj = 11, difficulty = 2, prob = 2, trial = 4\n",
      "final_occluded_volume not in data\n",
      "num_obj = 11, difficulty = 2, prob = 2, trial = 5\n",
      "final_occluded_volume not in data\n",
      "num_obj = 11, difficulty = 2, prob = 3, trial = 1\n",
      "final_occluded_volume not in data\n",
      "num_obj = 11, difficulty = 2, prob = 3, trial = 2\n",
      "final_occluded_volume not in data\n",
      "num_obj = 11, difficulty = 2, prob = 3, trial = 3\n",
      "final_occluded_volume not in data\n",
      "num_obj = 11, difficulty = 2, prob = 3, trial = 4\n",
      "final_occluded_volume not in data\n",
      "num_obj = 11, difficulty = 2, prob = 3, trial = 5\n",
      "final_occluded_volume not in data\n",
      "num_obj = 11, difficulty = 2, prob = 4, trial = 1\n",
      "final_occluded_volume not in data\n",
      "num_obj = 11, difficulty = 2, prob = 4, trial = 2\n",
      "final_occluded_volume not in data\n",
      "num_obj = 11, difficulty = 2, prob = 4, trial = 3\n",
      "final_occluded_volume not in data\n",
      "num_obj = 11, difficulty = 2, prob = 4, trial = 4\n",
      "final_occluded_volume not in data\n",
      "num_obj = 11, difficulty = 2, prob = 4, trial = 5\n",
      "final_occluded_volume not in data\n",
      "num_obj = 11, difficulty = 2, prob = 5, trial = 1\n",
      "final_occluded_volume not in data\n",
      "num_obj = 11, difficulty = 2, prob = 5, trial = 2\n",
      "final_occluded_volume not in data\n",
      "num_obj = 11, difficulty = 2, prob = 5, trial = 3\n",
      "final_occluded_volume not in data\n",
      "num_obj = 11, difficulty = 2, prob = 5, trial = 4\n",
      "final_occluded_volume not in data\n",
      "num_obj = 11, difficulty = 2, prob = 5, trial = 5\n",
      "final_occluded_volume not in data\n",
      "num_obj = 11, difficulty = 1, prob = 1, trial = 1\n",
      "num_reconstructed_objs does not match\n",
      "num_obj = 11, difficulty = 1, prob = 1, trial = 1\n",
      "{'num_reconstructed_objs': 10, 'num_collision': 0, 'running_time': 401.8138892650604, 'num_executed_actions': 13, 'perception_time': 135.1548318862915, 'motion_planning_time': 95.96475076675415, 'pose_generation_time': 97.4916672706604, 'rearrange_time': 47.690274715423584, 'ros_time': 86.47972679138184, 'perception_calls': 279, 'motion_planning_calls': 90, 'pose_generation_calls': 84, 'rearrange_calls': 3, 'execution_calls': 640, 'rearrange_motion_planning_time': 23.492986917495728, 'rearrange_pose_generation_time': 19.537635326385498, 'rearrange_motion_planning_calls': 9, 'rearrange_pose_generation_calls': 17}\n",
      "final_occluded_volume not in data\n",
      "num_obj = 11, difficulty = 1, prob = 1, trial = 2\n",
      "final_occluded_volume not in data\n",
      "num_obj = 11, difficulty = 1, prob = 1, trial = 3\n",
      "final_occluded_volume not in data\n",
      "num_obj = 11, difficulty = 1, prob = 1, trial = 4\n",
      "final_occluded_volume not in data\n",
      "num_obj = 11, difficulty = 1, prob = 1, trial = 5\n",
      "final_occluded_volume not in data\n",
      "num_obj = 11, difficulty = 1, prob = 2, trial = 1\n",
      "final_occluded_volume not in data\n",
      "num_obj = 11, difficulty = 1, prob = 2, trial = 2\n",
      "final_occluded_volume not in data\n",
      "num_obj = 11, difficulty = 1, prob = 2, trial = 3\n",
      "final_occluded_volume not in data\n",
      "num_obj = 11, difficulty = 1, prob = 2, trial = 4\n",
      "final_occluded_volume not in data\n",
      "num_obj = 11, difficulty = 1, prob = 2, trial = 5\n",
      "final_occluded_volume not in data\n",
      "num_obj = 11, difficulty = 1, prob = 3, trial = 1\n",
      "final_occluded_volume not in data\n",
      "num_obj = 11, difficulty = 1, prob = 3, trial = 2\n",
      "final_occluded_volume not in data\n",
      "num_obj = 11, difficulty = 1, prob = 3, trial = 3\n",
      "final_occluded_volume not in data\n",
      "num_obj = 11, difficulty = 1, prob = 3, trial = 4\n",
      "final_occluded_volume not in data\n",
      "num_obj = 11, difficulty = 1, prob = 3, trial = 5\n",
      "final_occluded_volume not in data\n",
      "num_obj = 11, difficulty = 1, prob = 4, trial = 1\n",
      "final_occluded_volume not in data\n",
      "num_obj = 11, difficulty = 1, prob = 4, trial = 2\n",
      "final_occluded_volume not in data\n",
      "num_obj = 11, difficulty = 1, prob = 4, trial = 3\n",
      "final_occluded_volume not in data\n",
      "num_obj = 11, difficulty = 1, prob = 4, trial = 4\n",
      "final_occluded_volume not in data\n",
      "num_obj = 11, difficulty = 1, prob = 4, trial = 5\n",
      "final_occluded_volume not in data\n",
      "num_obj = 11, difficulty = 1, prob = 5, trial = 1\n",
      "final_occluded_volume not in data\n",
      "num_obj = 11, difficulty = 1, prob = 5, trial = 2\n",
      "final_occluded_volume not in data\n",
      "num_obj = 11, difficulty = 1, prob = 5, trial = 3\n",
      "final_occluded_volume not in data\n",
      "num_obj = 11, difficulty = 1, prob = 5, trial = 4\n",
      "final_occluded_volume not in data\n",
      "num_obj = 11, difficulty = 1, prob = 5, trial = 5\n",
      "{'num_reconstructed_objs': 11, 'num_collision': 2, 'running_time': 2047.9186148643494, 'num_executed_actions': 19, 'perception_time': 174.77144312858582, 'motion_planning_time': 74.64229249954224, 'pose_generation_time': 108.15565490722656, 'rearrange_time': 1656.3017792701721, 'ros_time': 102.79567861557007, 'perception_calls': 315, 'motion_planning_calls': 100, 'pose_generation_calls': 97, 'rearrange_calls': 6, 'execution_calls': 728, 'rearrange_motion_planning_time': 1029.5359840393066, 'rearrange_pose_generation_time': 523.5425972938538, 'rearrange_motion_planning_calls': 306, 'rearrange_pose_generation_calls': 462, 'final_occluded_volume': 0}\n",
      "final_occluded_volume not in data\n",
      "num_obj = 8, difficulty = 3, prob = 1, trial = 1\n",
      "final_occluded_volume not in data\n",
      "num_obj = 8, difficulty = 3, prob = 1, trial = 2\n",
      "final_occluded_volume not in data\n",
      "num_obj = 8, difficulty = 3, prob = 1, trial = 3\n",
      "final_occluded_volume not in data\n",
      "num_obj = 8, difficulty = 3, prob = 1, trial = 4\n",
      "final_occluded_volume not in data\n",
      "num_obj = 8, difficulty = 3, prob = 1, trial = 5\n",
      "final_occluded_volume not in data\n",
      "num_obj = 8, difficulty = 3, prob = 2, trial = 1\n",
      "final_occluded_volume not in data\n",
      "num_obj = 8, difficulty = 3, prob = 2, trial = 2\n",
      "final_occluded_volume not in data\n",
      "num_obj = 8, difficulty = 3, prob = 2, trial = 3\n",
      "final_occluded_volume not in data\n",
      "num_obj = 8, difficulty = 3, prob = 2, trial = 4\n",
      "final_occluded_volume not in data\n",
      "num_obj = 8, difficulty = 3, prob = 2, trial = 5\n",
      "final_occluded_volume not in data\n",
      "num_obj = 8, difficulty = 3, prob = 3, trial = 1\n",
      "final_occluded_volume not in data\n",
      "num_obj = 8, difficulty = 3, prob = 3, trial = 2\n",
      "final_occluded_volume not in data\n",
      "num_obj = 8, difficulty = 3, prob = 3, trial = 3\n",
      "final_occluded_volume not in data\n",
      "num_obj = 8, difficulty = 3, prob = 3, trial = 4\n",
      "final_occluded_volume not in data\n",
      "num_obj = 8, difficulty = 3, prob = 3, trial = 5\n",
      "final_occluded_volume not in data\n",
      "num_obj = 8, difficulty = 3, prob = 4, trial = 1\n",
      "final_occluded_volume not in data\n",
      "num_obj = 8, difficulty = 3, prob = 4, trial = 2\n",
      "final_occluded_volume not in data\n",
      "num_obj = 8, difficulty = 3, prob = 4, trial = 3\n",
      "final_occluded_volume not in data\n",
      "num_obj = 8, difficulty = 3, prob = 4, trial = 4\n",
      "final_occluded_volume not in data\n",
      "num_obj = 8, difficulty = 3, prob = 4, trial = 5\n",
      "final_occluded_volume not in data\n",
      "num_obj = 8, difficulty = 3, prob = 5, trial = 1\n",
      "final_occluded_volume not in data\n",
      "num_obj = 8, difficulty = 3, prob = 5, trial = 2\n",
      "final_occluded_volume not in data\n",
      "num_obj = 8, difficulty = 3, prob = 5, trial = 3\n",
      "final_occluded_volume not in data\n",
      "num_obj = 8, difficulty = 3, prob = 5, trial = 4\n",
      "final_occluded_volume not in data\n",
      "num_obj = 8, difficulty = 3, prob = 5, trial = 5\n",
      "final_occluded_volume not in data\n",
      "num_obj = 8, difficulty = 2, prob = 1, trial = 1\n",
      "final_occluded_volume not in data\n",
      "num_obj = 8, difficulty = 2, prob = 1, trial = 2\n",
      "final_occluded_volume not in data\n",
      "num_obj = 8, difficulty = 2, prob = 1, trial = 3\n",
      "final_occluded_volume not in data\n",
      "num_obj = 8, difficulty = 2, prob = 1, trial = 4\n",
      "final_occluded_volume not in data\n",
      "num_obj = 8, difficulty = 2, prob = 1, trial = 5\n",
      "final_occluded_volume not in data\n",
      "num_obj = 8, difficulty = 2, prob = 2, trial = 1\n"
     ]
    }
   ],
   "source": [
    "import pickle\n",
    "import os\n",
    "import numpy as np\n",
    "\n",
    "num_objs = [11, 8, 5]\n",
    "difficulties = [3, 2, 1]\n",
    "probs = [1,2,3,4,5,6,7,8,9,10]\n",
    "total_time = {11: {3: [], 2: [], 1: []}, 8: {3: [], 2: [], 1: []}, 5: {3: [], 2: [], 1: []}}    \n",
    "total_time2 = {11: {3: {}, 2: {}, 1: {}}, 8: {3: {}, 2: {}, 1: {}}, 5: {3: {}, 2: {}, 1: {}}}    \n",
    "total_time3 = {11: {3: {}, 2: {}, 1: {}}, 8: {3: {}, 2: {}, 1: {}}, 5: {3: {}, 2: {}, 1: {}}}    \n",
    "\n",
    "for num_obj in num_objs:\n",
    "    for difficulty in difficulties:\n",
    "        for prob in probs:\n",
    "            trials = 5\n",
    "            max_trial = 6\n",
    "\n",
    "            for trial in range(max_trial-trials,max_trial):\n",
    "                # print(' number of objects: ', num_obj, ', difficulty level: ', difficulty, \n",
    "                #       ', prob: ', prob, ', trial: ', trial, '...')\n",
    "                # if the result file already exists, skip\n",
    "                fname = 'prob-%d-%d-%d-trial-%d-result.pkl' % (num_obj, difficulty, prob, trial)\n",
    "                if os.path.exists(fname):\n",
    "                    f = open(fname, 'rb')\n",
    "                    data = pickle.load(f)\n",
    "                    running_time = data['running_time']\n",
    "                    f.close()\n",
    "\n",
    "                    if num_obj == 11 and difficulty == 3 and prob == 1 and trial == 2:\n",
    "                        print(data)\n",
    "                    if num_obj == 11 and difficulty == 3 and prob == 4 and trial == 2:\n",
    "                        print(data)\n",
    "                    if num_obj == 11 and difficulty == 1 and prob == 7 and trial == 2:\n",
    "                        print(data)\n",
    "\n",
    "                    if 'final_occluded_volume' not in data:\n",
    "                        print('final_occluded_volume not in data')\n",
    "                        print('num_obj = %d, difficulty = %d, prob = %d, trial = %d' % \\\n",
    "                            (num_obj, difficulty, prob, trial))\n",
    "\n",
    "                    if data['num_reconstructed_objs'] != num_obj:\n",
    "                        print('num_reconstructed_objs does not match')\n",
    "                        print('num_obj = %d, difficulty = %d, prob = %d, trial = %d' % \\\n",
    "                            (num_obj, difficulty, prob, trial))\n",
    "                        print(data)\n",
    "\n",
    "                    total_time[num_obj][difficulty].append(running_time)\n",
    "                    if prob not in total_time2[num_obj][difficulty]:\n",
    "                        total_time2[num_obj][difficulty][prob] = []\n",
    "                    total_time2[num_obj][difficulty][prob].append(running_time)\n",
    "            total_time3[num_obj][difficulty][prob] = np.mean(total_time2[num_obj][difficulty][prob])"
   ]
  },
  {
   "cell_type": "code",
   "execution_count": 4,
   "id": "b46864d2",
   "metadata": {},
   "outputs": [],
   "source": [
    "for num_obj in num_objs:\n",
    "    for difficulty in difficulties:\n",
    "        total_time[num_obj][difficulty] = np.array(total_time[num_obj][difficulty])\n"
   ]
  },
  {
   "cell_type": "code",
   "execution_count": 6,
   "id": "73745fc4",
   "metadata": {},
   "outputs": [
    {
     "data": {
      "text/plain": [
       "{11: {3: array([ 646.08201289, 1489.91693401,  618.04483223,  614.13384652,\n",
       "          599.90416694,  770.05149555,  698.62926316,  732.07502127,\n",
       "          777.60171437,  852.80943346,  624.44934797,  582.37133312,\n",
       "          632.13316226,  612.14733768,  523.88736773,  599.6979661 ,\n",
       "         4641.88226604,  798.16753459,  694.19657183,  762.19414067,\n",
       "          629.23971272,  557.51302791,  508.85314178,  600.04685664,\n",
       "          643.97863483,  533.72756767,  653.37965035,  467.37915492,\n",
       "          582.53877664,  659.02538919,  702.9312067 ,  860.39273524,\n",
       "          669.77213407,  715.79171491,  637.6536696 ,  543.33666015,\n",
       "          582.88920784,  564.57267022,  620.40545654,  530.99640536,\n",
       "          641.08552551,  614.03375816,  636.29345536,  619.03326011,\n",
       "          598.9170289 ,  559.34309316,  626.53283167,  578.21446419,\n",
       "          572.06749415,  637.53811765]),\n",
       "  2: array([490.98448062, 539.57217526, 546.5931046 , 654.29677391,\n",
       "         509.00740266, 481.53640866, 529.27366161, 522.5824821 ,\n",
       "         536.93227625, 465.18830204, 512.6752286 , 478.67638564,\n",
       "         612.23330069, 464.0799849 , 588.29556775, 545.52094817,\n",
       "         542.21283865, 502.37930655, 524.38216114, 534.4494164 ,\n",
       "         446.16079617, 497.13010287, 458.07573938, 502.44129586,\n",
       "         443.26838636, 483.05177355, 586.51573896, 507.24170542,\n",
       "         544.38900399, 528.18988967, 566.66241813, 606.64638042,\n",
       "         606.55988145, 562.15075898, 600.05320597, 496.47143245,\n",
       "         613.16549325, 553.92780852, 510.9727726 , 513.77368379,\n",
       "         458.98248959, 491.29738688, 609.25355792, 518.69634795,\n",
       "         489.75750208, 578.70790982, 443.6369307 , 492.66800976,\n",
       "         474.87219048, 514.85021973]),\n",
       "  1: array([ 401.81388927,  511.33886337,  419.98311615,  472.44946814,\n",
       "          453.85209131,  536.86439967,  579.36422181,  578.0046823 ,\n",
       "          803.7399106 ,  467.75343561,  522.75576591,  687.00709844,\n",
       "          470.58034539,  588.27181268,  468.18008375,  471.8299818 ,\n",
       "          520.40827584,  453.80286813,  478.80704689,  471.93908429,\n",
       "          540.36749029,  457.17211628,  561.94281673,  556.83180714,\n",
       "          486.45594096,  534.35818052,  620.77581334,  465.68068147,\n",
       "          580.09570432,  549.33300233,  516.59782529, 2047.91861486,\n",
       "          513.35042596,  493.52321601,  537.5655899 ,  527.50741053,\n",
       "          522.82364678,  556.57446933,  485.22854424,  553.07079959,\n",
       "          498.34279203,  505.69704795,  487.33027291,  522.36351442,\n",
       "          493.55635715,  452.59455252,  515.29935479,  509.13426018,\n",
       "          474.80158687,  475.7196281 ])},\n",
       " 8: {3: array([707.49453092, 541.16042209, 592.49102354, 540.37756038,\n",
       "         508.27843714, 422.87503266, 356.22295427, 402.73884392,\n",
       "         399.45087242, 349.37335348, 351.42941022, 420.76343489,\n",
       "         471.51688862, 416.28043461, 426.98529315, 337.51986074,\n",
       "         350.52120519, 376.14367008, 354.94923663, 341.34187889,\n",
       "         416.41393948, 378.79743838, 406.77737761, 360.40559888,\n",
       "         389.12101984, 374.93126702, 349.63628912, 348.17057419,\n",
       "         301.39547801, 353.60103917, 412.42900777, 344.83762693,\n",
       "         333.00757718, 321.91999865, 340.60444117, 475.92114949,\n",
       "         431.55097151, 421.53759193, 387.88100624, 422.54227662,\n",
       "         394.75891733, 341.02987337, 337.84412456, 496.79362845,\n",
       "         468.65483975, 346.08116698, 484.1203146 , 603.1781168 ,\n",
       "         513.30312443, 413.06611657]),\n",
       "  2: array([425.6242919 , 345.51014161, 344.5882597 , 339.77089834,\n",
       "         330.73633742, 375.62170601, 385.44334459, 353.97107196,\n",
       "         369.74617124, 414.93136382, 354.71529365, 354.34757972,\n",
       "         339.81169462, 389.32742   , 355.32187295, 288.60041499,\n",
       "         355.66479945, 342.95956802, 303.87606931, 324.02277756,\n",
       "         391.43998551, 401.67333388, 365.84155083, 366.83149886,\n",
       "         382.80192208, 281.75731897, 330.05233216, 294.52238226,\n",
       "         317.47395349, 321.21176481, 320.21652007, 339.39783621,\n",
       "         365.51508045, 327.56386638, 349.19953561, 342.91895938,\n",
       "         377.27221894, 335.93921685, 325.3772943 , 324.52423263,\n",
       "         351.9060626 , 411.47404027, 393.24483466, 556.83361101,\n",
       "         421.65284371, 347.40906215, 362.76869965, 328.33025336,\n",
       "         375.21887016, 320.81189346]),\n",
       "  1: array([295.49843335, 274.91884375, 260.5103097 , 286.58510566,\n",
       "         269.69123316, 337.93846703, 335.05235744, 586.09431624,\n",
       "         342.57430005, 335.99258208, 332.85921764, 292.29659128,\n",
       "         316.92838502, 319.77420664, 333.09174609, 308.575701  ,\n",
       "         290.22804952, 272.00956774, 290.70948243, 290.33227825,\n",
       "         268.9642477 , 312.26055384, 282.05408144, 280.69510889,\n",
       "         274.38490677, 288.61514282, 294.24491978, 368.71646285,\n",
       "         289.84966087, 312.37841845, 471.01645756, 349.16819525,\n",
       "         360.66876507, 388.56051278, 377.48010087, 290.49661541,\n",
       "         326.44451833, 350.32247424, 336.34466982, 326.17801952,\n",
       "         316.06547546, 318.82961488, 292.80044174, 318.23659062,\n",
       "         317.13507271, 303.08120751, 322.93621016, 301.81573749,\n",
       "         325.46424627, 331.24034333])},\n",
       " 5: {3: array([185.29189062, 175.73207116, 188.48368764, 184.81168628,\n",
       "         197.24627042, 165.43443131, 204.47421026, 148.85454202,\n",
       "         169.97122908, 175.42691541, 216.2648108 , 184.78385949,\n",
       "         169.96263003, 171.01227283, 190.90438676, 208.4070704 ,\n",
       "         169.8841207 , 172.79282546, 174.85914493, 167.8864007 ,\n",
       "         212.13954091, 267.44938397, 226.47336555, 211.46962237,\n",
       "         294.18700242, 217.86129713, 217.2707479 , 239.89857602,\n",
       "         247.20510244, 219.98069429, 200.79252481, 195.20918965,\n",
       "         203.39740014, 211.11962175, 215.2289772 , 211.93948507,\n",
       "         211.38976336, 220.37219524, 262.44657326, 278.15414381,\n",
       "         188.05779171, 206.06059718, 173.9978478 , 189.64312363,\n",
       "         210.5307622 , 193.99070716, 187.75553584, 187.37095141,\n",
       "         184.38599396, 175.54356813]),\n",
       "  2: array([169.80562115, 165.57977939, 238.31480837, 173.37824082,\n",
       "         163.3898468 , 243.04522753, 205.37988186, 217.56909633,\n",
       "         308.77039981, 242.5693419 , 191.23137164, 195.77049232,\n",
       "         235.84496784, 186.26707244, 192.15530515, 152.24651003,\n",
       "         173.38328791, 177.7304616 , 166.2047472 , 162.50045681,\n",
       "         192.41459751, 162.99359632, 165.1566112 , 206.93906832,\n",
       "         199.7562983 , 164.02734566, 175.98001623, 174.49138951,\n",
       "         189.96636987, 170.3721621 , 183.97897911, 167.0706718 ,\n",
       "         157.8803668 , 157.09150767, 157.51303172, 192.08082056,\n",
       "         217.72682619, 199.98375535, 209.11654258, 186.71262145,\n",
       "         210.20462847, 212.14175248, 215.66752577, 175.94344783,\n",
       "         178.28267002, 198.41408896, 186.84564471, 231.14427781,\n",
       "         230.46945739, 217.87605238]),\n",
       "  1: array([173.6880157 , 161.85948086, 152.93531156, 154.6065309 ,\n",
       "         182.6498642 , 143.08399034, 167.2778945 , 141.93490601,\n",
       "         147.77950978, 154.61945987, 142.504246  , 144.85812902,\n",
       "         162.60567331, 141.77825332, 155.19622469, 148.94154668,\n",
       "         177.77463245, 146.57033491, 147.61879039, 154.40618229,\n",
       "         165.43270946, 163.48604155, 151.25987506, 163.71818852,\n",
       "         161.41453838, 160.86544776, 179.48459744, 149.44280076,\n",
       "         155.46832681, 157.96939301, 182.99177074, 220.02096009,\n",
       "         151.87875772, 149.57406092, 167.79040813, 166.7997098 ,\n",
       "         172.13449693, 185.48947811, 191.70345688, 175.58545589,\n",
       "         228.05815983, 219.53283191, 244.40009117, 261.00462866,\n",
       "         230.32107592, 162.87628841, 183.78892207, 157.21832776,\n",
       "         158.40225244, 162.26313019])}}"
      ]
     },
     "execution_count": 6,
     "metadata": {},
     "output_type": "execute_result"
    }
   ],
   "source": [
    "total_time"
   ]
  },
  {
   "cell_type": "code",
   "execution_count": 19,
   "id": "64a55878",
   "metadata": {},
   "outputs": [
    {
     "name": "stdout",
     "output_type": "stream",
     "text": [
      "0.96\n"
     ]
    },
    {
     "data": {
      "image/png": "[encoded data removed]",
      "text/plain": [
       "<Figure size 432x288 with 1 Axes>"
      ]
     },
     "metadata": {
      "needs_background": "light"
     },
     "output_type": "display_data"
    }
   ],
   "source": [
    "import pandas as pd\n",
    "import seaborn as sb\n",
    "\n",
    "sb.histplot(data=total_time[11][3])\n",
    "print((total_time[11][3]<900).sum() / len(total_time[11][3]))"
   ]
  },
  {
   "cell_type": "code",
   "execution_count": 26,
   "id": "4cc385ad",
   "metadata": {},
   "outputs": [
    {
     "name": "stdout",
     "output_type": "stream",
     "text": [
      "1.0\n"
     ]
    },
    {
     "data": {
      "image/png": "[encoded data removed]",
      "text/plain": [
       "<Figure size 432x288 with 1 Axes>"
      ]
     },
     "metadata": {
      "needs_background": "light"
     },
     "output_type": "display_data"
    }
   ],
   "source": [
    "sb.histplot(data=total_time[11][2])\n",
    "print((total_time[11][2]<800).sum() / len(total_time[11][2]))"
   ]
  },
  {
   "cell_type": "code",
   "execution_count": 25,
   "id": "f7f367d2",
   "metadata": {},
   "outputs": [
    {
     "name": "stdout",
     "output_type": "stream",
     "text": [
      "0.96\n"
     ]
    },
    {
     "data": {
      "image/png": "[encoded data removed]",
      "text/plain": [
       "<Figure size 432x288 with 1 Axes>"
      ]
     },
     "metadata": {
      "needs_background": "light"
     },
     "output_type": "display_data"
    }
   ],
   "source": [
    "sb.histplot(data=total_time[11][1])\n",
    "print((total_time[11][1]<700).sum() / len(total_time[11][1]))"
   ]
  },
  {
   "cell_type": "code",
   "execution_count": 31,
   "id": "92c71db2",
   "metadata": {},
   "outputs": [
    {
     "name": "stdout",
     "output_type": "stream",
     "text": [
      "0.96\n"
     ]
    },
    {
     "data": {
      "image/png": "[encoded data removed]",
      "text/plain": [
       "<Figure size 432x288 with 1 Axes>"
      ]
     },
     "metadata": {
      "needs_background": "light"
     },
     "output_type": "display_data"
    }
   ],
   "source": [
    "sb.histplot(data=total_time[8][3])\n",
    "print((total_time[8][3]<600).sum() / len(total_time[8][3]))"
   ]
  },
  {
   "cell_type": "code",
   "execution_count": 32,
   "id": "bf7df454",
   "metadata": {},
   "outputs": [
    {
     "name": "stdout",
     "output_type": "stream",
     "text": [
      "0.98\n"
     ]
    },
    {
     "data": {
      "image/png": "[encoded data removed]",
      "text/plain": [
       "<Figure size 432x288 with 1 Axes>"
      ]
     },
     "metadata": {
      "needs_background": "light"
     },
     "output_type": "display_data"
    }
   ],
   "source": [
    "sb.histplot(data=total_time[8][2])\n",
    "print((total_time[8][2]<500).sum() / len(total_time[8][2]))"
   ]
  },
  {
   "cell_type": "code",
   "execution_count": 39,
   "id": "07957130",
   "metadata": {},
   "outputs": [
    {
     "name": "stdout",
     "output_type": "stream",
     "text": [
      "0.96\n"
     ]
    },
    {
     "data": {
      "image/png": "[encoded data removed]",
      "text/plain": [
       "<Figure size 432x288 with 1 Axes>"
      ]
     },
     "metadata": {
      "needs_background": "light"
     },
     "output_type": "display_data"
    }
   ],
   "source": [
    "sb.histplot(data=total_time[8][1])\n",
    "print((total_time[8][1]<400).sum() / len(total_time[8][1]))"
   ]
  },
  {
   "cell_type": "code",
   "execution_count": 41,
   "id": "e5f3b0b6",
   "metadata": {},
   "outputs": [
    {
     "name": "stdout",
     "output_type": "stream",
     "text": [
      "1.0\n"
     ]
    },
    {
     "data": {
      "image/png": "[encoded data removed]",
      "text/plain": [
       "<Figure size 432x288 with 1 Axes>"
      ]
     },
     "metadata": {
      "needs_background": "light"
     },
     "output_type": "display_data"
    }
   ],
   "source": [
    "sb.histplot(data=total_time[5][3])\n",
    "print((total_time[5][3]<300).sum() / len(total_time[5][3]))"
   ]
  },
  {
   "cell_type": "code",
   "execution_count": 42,
   "id": "81497c83",
   "metadata": {},
   "outputs": [
    {
     "name": "stdout",
     "output_type": "stream",
     "text": [
      "0.98\n"
     ]
    },
    {
     "data": {
      "image/png": "[encoded data removed]",
      "text/plain": [
       "<Figure size 432x288 with 1 Axes>"
      ]
     },
     "metadata": {
      "needs_background": "light"
     },
     "output_type": "display_data"
    }
   ],
   "source": [
    "sb.histplot(data=total_time[5][2])\n",
    "print((total_time[5][2]<300).sum() / len(total_time[5][2]))"
   ]
  },
  {
   "cell_type": "code",
   "execution_count": 43,
   "id": "26f3cdfc",
   "metadata": {},
   "outputs": [
    {
     "name": "stdout",
     "output_type": "stream",
     "text": [
      "1.0\n"
     ]
    },
    {
     "data": {
      "image/png": "[encoded data removed]",
      "text/plain": [
       "<Figure size 432x288 with 1 Axes>"
      ]
     },
     "metadata": {
      "needs_background": "light"
     },
     "output_type": "display_data"
    }
   ],
   "source": [
    "sb.histplot(data=total_time[5][1])\n",
    "print((total_time[5][1]<300).sum() / len(total_time[5][1]))"
   ]
  },
  {
   "cell_type": "code",
   "execution_count": null,
   "id": "201fc57b",
   "metadata": {},
   "outputs": [],
   "source": []
  }
 ],
 "metadata": {
  "kernelspec": {
   "display_name": "Python 3",
   "language": "python",
   "name": "python3"
  },
  "language_info": {
   "codemirror_mode": {
    "name": "ipython",
    "version": 3
   },
   "file_extension": ".py",
   "mimetype": "text/x-python",
   "name": "python",
   "nbconvert_exporter": "python",
   "pygments_lexer": "ipython3",
   "version": "3.8.10"
  }
 },
 "nbformat": 4,
 "nbformat_minor": 5
}
